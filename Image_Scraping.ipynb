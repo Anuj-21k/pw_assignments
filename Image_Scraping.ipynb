{
 "cells": [
  {
   "cell_type": "markdown",
   "id": "f0ca788e",
   "metadata": {},
   "source": [
    "## Q1. Extract Video URLs of the First Five Videos"
   ]
  },
  {
   "cell_type": "markdown",
   "id": "2e83e3df",
   "metadata": {},
   "source": [
    "#### Ans:\n",
    "'''\n",
    "\n",
    "import requests\n",
    "\n",
    "from bs4 import BeautifulSoup\n",
    "\n",
    "\n",
    "url = \"https://www.youtube.com/@PW-Foundation/videos\"\n",
    "\n",
    "response = requests.get(url)\n",
    "\n",
    "soup = BeautifulSoup(response.text, 'html.parser')\n",
    "\n",
    "\n",
    "videos = soup.find_all('a', id='thumbnail', limit=5)\n",
    "\n",
    "video_urls = [\"https://www.youtube.com\" + video['href'] for video in videos]\n",
    "\n",
    "\n",
    "print(video_urls)\n",
    "\n",
    "'''\n"
   ]
  },
  {
   "cell_type": "markdown",
   "id": "add1cd6d",
   "metadata": {},
   "source": [
    "## Q2. Extract Thumbnail URLs of the First Five Videos"
   ]
  },
  {
   "cell_type": "markdown",
   "id": "67cddc39",
   "metadata": {},
   "source": [
    "# Ans:\n",
    "'''\n",
    "\n",
    "thumbnail_urls = [video.find('img')['src'] for video in videos]\n",
    "\n",
    "print(thumbnail_urls)\n",
    "\n",
    "'''"
   ]
  },
  {
   "cell_type": "markdown",
   "id": "e706b137",
   "metadata": {},
   "source": [
    "## Q3. Extract Titles of the First Five Videos"
   ]
  },
  {
   "cell_type": "markdown",
   "id": "9c437670",
   "metadata": {},
   "source": [
    "### Ans:\n",
    "'''\n",
    "\n",
    "video_titles = [video.find('img')['alt'] for video in videos]\n",
    "\n",
    "print(video_titles)\n",
    "\n",
    "\n",
    "'''"
   ]
  },
  {
   "cell_type": "markdown",
   "id": "cdaeb48e",
   "metadata": {},
   "source": [
    "## Q4. Extract Number of Views of the First Five Videos"
   ]
  },
  {
   "cell_type": "markdown",
   "id": "cf52c04f",
   "metadata": {},
   "source": [
    "### Ans:\n",
    "'''\n",
    "\n",
    "view_counts = [video.find_next('span', class_='style-scope ytd-grid-video-renderer').text for video in videos]\n",
    "\n",
    "\n",
    "print(view_counts)\n",
    "\n",
    "'''\n",
    "\n"
   ]
  },
  {
   "cell_type": "markdown",
   "id": "03a7a133",
   "metadata": {},
   "source": [
    "## Q5. Extract Posting Times of the First Five Videos"
   ]
  },
  {
   "cell_type": "markdown",
   "id": "faf57144",
   "metadata": {},
   "source": [
    "Ans\n",
    "'''\n",
    "\n",
    "post_times = [video.find_next('div', id='metadata-line').find_all('span')[1].text for video in videos]\n",
    "\n",
    "print(post_times)\n",
    "\n",
    "'''\n"
   ]
  },
  {
   "cell_type": "markdown",
   "id": "fbc21b84",
   "metadata": {},
   "source": [
    "## Saving Data To CSV:"
   ]
  },
  {
   "cell_type": "markdown",
   "id": "f628dfb9",
   "metadata": {},
   "source": [
    "import csv\n",
    "\n",
    "\n",
    "with open('youtube_videos.csv', 'w', newline='', encoding='utf-8') as file:\n",
    "\n",
    "    writer = csv.writer(file)\n",
    "    writer.writerow([\"Title\", \"Video URL\", \"Thumbnail URL\", \"Views\", \"Posted\"])\n",
    "    for i in range(len(video_titles)):\n",
    "        writer.writerow([video_titles[i], video_urls[i], thumbnail_urls[i], view_counts[i], post_times[i]])\n",
    "        \n",
    "        \n"
   ]
  },
  {
   "cell_type": "code",
   "execution_count": null,
   "id": "8d1cffda",
   "metadata": {},
   "outputs": [],
   "source": []
  }
 ],
 "metadata": {
  "kernelspec": {
   "display_name": "Python 3 (ipykernel)",
   "language": "python",
   "name": "python3"
  },
  "language_info": {
   "codemirror_mode": {
    "name": "ipython",
    "version": 3
   },
   "file_extension": ".py",
   "mimetype": "text/x-python",
   "name": "python",
   "nbconvert_exporter": "python",
   "pygments_lexer": "ipython3",
   "version": "3.9.7"
  }
 },
 "nbformat": 4,
 "nbformat_minor": 5
}
