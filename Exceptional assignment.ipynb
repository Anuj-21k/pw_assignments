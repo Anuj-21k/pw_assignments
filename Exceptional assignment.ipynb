{
 "cells": [
  {
   "cell_type": "markdown",
   "id": "489f7355-0700-4a1e-a52e-7096d3f8d525",
   "metadata": {},
   "source": [
    "# Q1. What isan Exception in pthon? Write the difference between Exceptions and syntax errors?"
   ]
  },
  {
   "cell_type": "markdown",
   "id": "b4cbb601-f3c6-4b57-a371-9d10ac1cbb67",
   "metadata": {},
   "source": [
    "Ans : \n",
    "\n",
    "In Python, exceptions are runtime errors that disrupt the normal flow of program execution. They occur when encountering unexpected conditions (e.g., division by zero). Exception handling allows you to gracefully manage these errors using try-except blocks.\n",
    "\n",
    "Syntax errors, on the other hand, are grammatical mistakes in your code, like missing colons or mismatched parentheses. These errors prevent the code from even running and are detected during the syntax analysis phase.\n",
    "\n",
    "Exceptions and syntax errors both prevent desired program behavior, but exceptions arise during execution while syntax errors occur before running."
   ]
  },
  {
   "cell_type": "markdown",
   "id": "4dc1c0a7-26d8-4159-8e9b-2a485481c885",
   "metadata": {},
   "source": [
    "# Q2. What happens whenan exception is not handled? Explain with an example?\n"
   ]
  },
  {
   "cell_type": "markdown",
   "id": "d3e2de63-9f16-4074-b49a-e13ca1d4a3fe",
   "metadata": {},
   "source": [
    "Ans : \n",
    "    When an exception occurs in Python and remains unhandled, it disrupts the normal execution of your program, leading to unexpected behavior.\n",
    "    The program execution abruptly terminates at the point of the unhandled exception.\n",
    "    "
   ]
  },
  {
   "cell_type": "code",
   "execution_count": 2,
   "id": "9f5f5c09-ddbd-4216-aca7-6e97df878039",
   "metadata": {},
   "outputs": [
    {
     "ename": "ZeroDivisionError",
     "evalue": "division by zero",
     "output_type": "error",
     "traceback": [
      "\u001b[0;31m---------------------------------------------------------------------------\u001b[0m",
      "\u001b[0;31mZeroDivisionError\u001b[0m                         Traceback (most recent call last)",
      "Cell \u001b[0;32mIn[2], line 8\u001b[0m\n\u001b[1;32m      5\u001b[0m num1 \u001b[38;5;241m=\u001b[39m \u001b[38;5;241m10\u001b[39m\n\u001b[1;32m      6\u001b[0m num2 \u001b[38;5;241m=\u001b[39m \u001b[38;5;241m0\u001b[39m\n\u001b[0;32m----> 8\u001b[0m \u001b[43mdivide\u001b[49m\u001b[43m(\u001b[49m\u001b[43mnum1\u001b[49m\u001b[43m,\u001b[49m\u001b[43m \u001b[49m\u001b[43mnum2\u001b[49m\u001b[43m)\u001b[49m\n",
      "Cell \u001b[0;32mIn[2], line 3\u001b[0m, in \u001b[0;36mdivide\u001b[0;34m(x, y)\u001b[0m\n\u001b[1;32m      2\u001b[0m \u001b[38;5;28;01mdef\u001b[39;00m \u001b[38;5;21mdivide\u001b[39m(x, y):\n\u001b[0;32m----> 3\u001b[0m   result \u001b[38;5;241m=\u001b[39m \u001b[43mx\u001b[49m\u001b[43m \u001b[49m\u001b[38;5;241;43m/\u001b[39;49m\u001b[43m \u001b[49m\u001b[43my\u001b[49m\n",
      "\u001b[0;31mZeroDivisionError\u001b[0m: division by zero"
     ]
    }
   ],
   "source": [
    "#example:\n",
    "def divide(x, y):\n",
    "  result = x / y  # division by zero exception\n",
    "\n",
    "num1 = 10\n",
    "num2 = 0\n",
    "\n",
    "divide(num1, num2)"
   ]
  },
  {
   "cell_type": "markdown",
   "id": "02924855-9ab8-4ac6-b0db-81304fe5b49b",
   "metadata": {},
   "source": [
    "above code error explanation:\n",
    "\n",
    "This code defines a function divide that performs division.\n",
    "\n",
    "When called with num2 (zero), a ZeroDivisionError exception will occur.\n",
    "\n",
    "Since there's no try-except block, the program execution halts."
   ]
  },
  {
   "cell_type": "markdown",
   "id": "eed6a156-072e-4c8e-8bcc-08933027dc8c",
   "metadata": {},
   "source": [
    "# Q3. Which Python statements are used to catch and handle exceptions? Explain with an example."
   ]
  },
  {
   "cell_type": "markdown",
   "id": "6c1e2cf3-7d21-42fa-a8b5-7173f19352e0",
   "metadata": {},
   "source": [
    "ans: \n",
    "In Python, exception handling relies on the try-except block structure to catch and manage exceptions that might occur during program execution. Here's a breakdown and an example:\n",
    "\n",
    "The try-except Block:\n",
    "\n",
    "try: This block contains the code you suspect might raise an exception.\n",
    "except: This block defines what happens when an exception (of a specific type) occurs within the try block. You can specify the exception type (e.g., ZeroDivisionError) or use a generic except clause to catch all exceptions."
   ]
  },
  {
   "cell_type": "code",
   "execution_count": 6,
   "id": "026bfcb0-53a3-4d90-95ec-021ef0cec47a",
   "metadata": {},
   "outputs": [],
   "source": [
    "def division(x, y):\n",
    "  \"\"\"Divides two numbers, handling division by zero.\"\"\"\n",
    "  try:\n",
    "    result = x / y\n",
    "  except ZeroDivisionError:  # CatchesZeroDivisionError exception\n",
    "    result = \"Division by zero is not allowed!\"\n",
    "  else:  #  if no exception occurs in the `try` block\n",
    "    result = f\"The result is: {result}\"\n",
    "  finally:  #  block that always executes, regardless of exceptions\n",
    "    print(\"This code always executes!\")\n",
    "  return result\n",
    "\n"
   ]
  },
  {
   "cell_type": "code",
   "execution_count": 7,
   "id": "9cb73900-0f6c-43e2-8332-729bd78bfb66",
   "metadata": {},
   "outputs": [
    {
     "name": "stdout",
     "output_type": "stream",
     "text": [
      "This code always executes!\n",
      "The result is: 5.0\n"
     ]
    }
   ],
   "source": [
    "num1 = 10\n",
    "num2 = 2\n",
    "\n",
    "division_result = division(num1, num2)\n",
    "print(division_result)"
   ]
  },
  {
   "cell_type": "code",
   "execution_count": 8,
   "id": "ea3a5dbb-33ab-4ca6-ad36-c7f2bbe562a2",
   "metadata": {},
   "outputs": [
    {
     "name": "stdout",
     "output_type": "stream",
     "text": [
      "This code always executes!\n",
      "Division by zero is not allowed!\n"
     ]
    }
   ],
   "source": [
    "num2 = 0\n",
    "division_result = division(num1, num2)\n",
    "print(division_result)  "
   ]
  },
  {
   "cell_type": "markdown",
   "id": "9ad3dc72-a2f4-4efc-91c2-3cf726c9a211",
   "metadata": {},
   "source": [
    "# Q4. Explain with an example:\n",
    "## a. try and else\n",
    "## b. finally\n",
    "## c. raise"
   ]
  },
  {
   "cell_type": "markdown",
   "id": "7bfdc755-d89c-491a-8e01-72fa5de3bf07",
   "metadata": {},
   "source": [
    " #### Ans:\n",
    " \n",
    " A. Try-else:\n",
    "    Purpose: Allows separate code execution depending on whether an exception occurs within the try block."
   ]
  },
  {
   "cell_type": "code",
   "execution_count": 18,
   "id": "5d304a97-42f9-436b-a667-bf87fce0f134",
   "metadata": {},
   "outputs": [],
   "source": [
    "def calculate_avg(num): #calculate the average of list with handling Division by zero\n",
    "    \n",
    "    try:\n",
    "        total = sum(num)\n",
    "        average = total / len(num)\n",
    "        return  average\n",
    "    except Exception as e:\n",
    "        print(\"unamble to calculate due to\",e)\n",
    "    else: #executes only if no exception occurs in the try block\n",
    "        return \"cannot calculate average of empty list\"\n",
    "    "
   ]
  },
  {
   "cell_type": "code",
   "execution_count": 19,
   "id": "8e795625-cb03-486c-8814-ebf74c8e7e4a",
   "metadata": {},
   "outputs": [
    {
     "name": "stdout",
     "output_type": "stream",
     "text": [
      "4.75\n"
     ]
    }
   ],
   "source": [
    "num = [4,5,8,2]\n",
    "res = calculate_avg(num)\n",
    "print(res)"
   ]
  },
  {
   "cell_type": "code",
   "execution_count": 20,
   "id": "ff5c7403-7ae7-44d1-9ed5-dc81a3bd8dca",
   "metadata": {},
   "outputs": [
    {
     "name": "stdout",
     "output_type": "stream",
     "text": [
      "unamble to calculate due to division by zero\n",
      "None\n"
     ]
    }
   ],
   "source": [
    "emp_list = []\n",
    "res1 = calculate_avg(emp_list)\n",
    "print(res1)"
   ]
  },
  {
   "cell_type": "markdown",
   "id": "1b4d55c6-c04e-444f-a001-f57b09eab807",
   "metadata": {},
   "source": [
    "#### Ans :\n",
    "\n",
    "b. finally : \n",
    "\n",
    "Purpose: Ensures a block of code always executes, regardless of exceptions or normal program flow completion. Often used for cleanup tasks."
   ]
  },
  {
   "cell_type": "code",
   "execution_count": 1,
   "id": "d495e34a-bf0a-4acf-8ad8-7d066b48c87a",
   "metadata": {},
   "outputs": [],
   "source": [
    "def temp(data, filename): # attempt to write data to a file, handling errors and ensuring file closure\n",
    "    try :\n",
    "        with open (filename, \"w\") as file:\n",
    "            file.write(data)\n",
    "    except FileNotFoundError:\n",
    "        print(\"Error : File not Found !\")\n",
    "    finally:\n",
    "        # this will always execute\n",
    "        print(f\"File operation on '{filename}' completed\")"
   ]
  },
  {
   "cell_type": "code",
   "execution_count": 3,
   "id": "a07df081-46be-463b-b76f-b234720abcb0",
   "metadata": {},
   "outputs": [
    {
     "name": "stdout",
     "output_type": "stream",
     "text": [
      "File operation on 'output.txt' completed\n"
     ]
    }
   ],
   "source": [
    "data_to_write = \"this is some data\"\n",
    "filename = \"output.txt\"\n",
    "temp(data_to_write, filename)"
   ]
  },
  {
   "cell_type": "markdown",
   "id": "8556d3df-cef2-4832-9205-56f9766ef38c",
   "metadata": {},
   "source": [
    "#### Ans:\n",
    "\n",
    "c. raise :\n",
    "\n",
    "Purpose: Explicitly throws an exception to signal an error condition within your code.\n"
   ]
  },
  {
   "cell_type": "code",
   "execution_count": 7,
   "id": "748b1968-4204-489f-a986-3a939e74bdfe",
   "metadata": {},
   "outputs": [],
   "source": [
    "def check_age(num):\n",
    "    \"\"\" checks if age is valid (positive) and raise an exception if not\"\"\"\n",
    "    if num <= 0:\n",
    "        raise ValueError(\"Age must be a positive Number.\")"
   ]
  },
  {
   "cell_type": "code",
   "execution_count": 8,
   "id": "eb7548c9-e3ff-477f-bed9-fb2eee0750e3",
   "metadata": {},
   "outputs": [
    {
     "ename": "ValueError",
     "evalue": "Age must be a positive Number.",
     "output_type": "error",
     "traceback": [
      "\u001b[0;31m---------------------------------------------------------------------------\u001b[0m",
      "\u001b[0;31mValueError\u001b[0m                                Traceback (most recent call last)",
      "Cell \u001b[0;32mIn[8], line 1\u001b[0m\n\u001b[0;32m----> 1\u001b[0m \u001b[43mcheck_age\u001b[49m\u001b[43m(\u001b[49m\u001b[38;5;241;43m-\u001b[39;49m\u001b[38;5;241;43m65\u001b[39;49m\u001b[43m)\u001b[49m\n",
      "Cell \u001b[0;32mIn[7], line 4\u001b[0m, in \u001b[0;36mcheck_age\u001b[0;34m(num)\u001b[0m\n\u001b[1;32m      2\u001b[0m \u001b[38;5;124;03m\"\"\" checks if age is valid (positive) and raise an exception if not\"\"\"\u001b[39;00m\n\u001b[1;32m      3\u001b[0m \u001b[38;5;28;01mif\u001b[39;00m num \u001b[38;5;241m<\u001b[39m\u001b[38;5;241m=\u001b[39m \u001b[38;5;241m0\u001b[39m:\n\u001b[0;32m----> 4\u001b[0m     \u001b[38;5;28;01mraise\u001b[39;00m \u001b[38;5;167;01mValueError\u001b[39;00m(\u001b[38;5;124m\"\u001b[39m\u001b[38;5;124mAge must be a positive Number.\u001b[39m\u001b[38;5;124m\"\u001b[39m)\n",
      "\u001b[0;31mValueError\u001b[0m: Age must be a positive Number."
     ]
    }
   ],
   "source": [
    "check_age(-65)"
   ]
  },
  {
   "cell_type": "markdown",
   "id": "d52ac182-61e2-4983-8a4b-484b34797d7d",
   "metadata": {},
   "source": [
    "# Q5 .  what are custom exceptions in python? why do we need custom exception? explain with an example"
   ]
  },
  {
   "cell_type": "markdown",
   "id": "99bdf92f-e4a9-4cdb-9e46-77b5b0cc2f0d",
   "metadata": {},
   "source": [
    "#### Ans :\n",
    "\n",
    "##### Specificity: Built-in exceptions might be too broad. Custom exceptions let you create more specific error messages tailored to your application's needs.\n",
    "##### Clarity: They improve code readability by clearly indicating the type of error encountered.\n",
    "##### Handling: You can design custom exception handling logic specific to your error types.\n"
   ]
  },
  {
   "cell_type": "code",
   "execution_count": 10,
   "id": "571030bc-276d-408f-a5a1-94ef4e77cf08",
   "metadata": {},
   "outputs": [
    {
     "name": "stdout",
     "output_type": "stream",
     "text": [
      "InvalidAgeError :  Age must be a positive number.\n"
     ]
    }
   ],
   "source": [
    "class InvalidAgeError(Exception):\n",
    "    \"\"\" raised when an invalid age is enterd \"\"\"\n",
    "    pass\n",
    "\n",
    "def check_age(age):\n",
    "    if age <= 0:\n",
    "        raise InvalidAgeError(\"Age must be a positive number.\")\n",
    "    \n",
    "try:\n",
    "    check_age(-12)\n",
    "except InvalidAgeError as e:\n",
    "    print(\"InvalidAgeError : \",e)"
   ]
  },
  {
   "cell_type": "markdown",
   "id": "bce3d030-c7b6-470b-ada0-c58f1908ca28",
   "metadata": {},
   "source": [
    "# create a custom exception class. Use this class to handle an exception."
   ]
  },
  {
   "cell_type": "code",
   "execution_count": 13,
   "id": "3ca27394-5ee7-4ed2-bfdb-e1d9130d3f22",
   "metadata": {},
   "outputs": [
    {
     "name": "stdout",
     "output_type": "stream",
     "text": [
      "value '110' is out of range. Expected between [mini] and [maxi] (inclusive).\n"
     ]
    }
   ],
   "source": [
    "class OutOfRangeError(Exception):\n",
    "    \"\"\" raised when a value is outside the expected range.\"\"\"\n",
    "    def __init__(self, value, mini, maxi):\n",
    "        super().__init__(f\"value '{value}' is out of range. Expected between [mini] and [maxi] (inclusive).\")\n",
    "\n",
    "def validate_grade(grade):\n",
    "    \"\"\" validate a grade , ensuring it's within the valid range(0-100).\"\"\"\n",
    "    if grade < 0 or grade > 100:\n",
    "        raise OutOfRangeError(grade, 0 , 100)\n",
    "        return grade\n",
    "try:\n",
    "    validated_grade = validate_grade(110)\n",
    "except OutOfRangeError as e:\n",
    "    print(e)"
   ]
  },
  {
   "cell_type": "code",
   "execution_count": null,
   "id": "8c0d86a9-4250-45ab-b30c-6c3f62992e5d",
   "metadata": {},
   "outputs": [],
   "source": []
  }
 ],
 "metadata": {
  "kernelspec": {
   "display_name": "Python 3 (ipykernel)",
   "language": "python",
   "name": "python3"
  },
  "language_info": {
   "codemirror_mode": {
    "name": "ipython",
    "version": 3
   },
   "file_extension": ".py",
   "mimetype": "text/x-python",
   "name": "python",
   "nbconvert_exporter": "python",
   "pygments_lexer": "ipython3",
   "version": "3.10.8"
  }
 },
 "nbformat": 4,
 "nbformat_minor": 5
}
