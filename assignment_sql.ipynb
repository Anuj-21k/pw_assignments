{
 "cells": [
  {
   "cell_type": "markdown",
   "metadata": {},
   "source": [
    "## Q1. What is a database? Differentiate between SQL and NoSQL databases.\n",
    "\n",
    "### Ans:\n",
    "1. A database is an organized collection of data, typically stored electronically in a computer system and managed by a database management system\n",
    "\n",
    "2. SQL databases, also known as Relational Databases, and NoSQL databases have distinct characteristics and are designed to cater to different data management needs.\n",
    "\n",
    "#### SQL Databases:\n",
    "\n",
    "Primarily called RDBMS or Relational Databases.\n",
    "Use SQL syntax and queries to analyze and get data for further insights. They are used for OLAP systems.\n",
    "Table-based databases.\n",
    "Have a predefined schema.\n",
    "Vertically scalable, meaning they can handle increased workload by upgrading the hardware of the existing system.\n",
    "\n",
    "#### NoSQL Databases:\n",
    "\n",
    "Primarily called Non-relational or Distributed Database.\n",
    "Consist of various kinds of database technologies, developed in response to the demands presented for the development of modern applications.\n",
    "Can be document-based, key-value pairs, or graph databases."
   ]
  },
  {
   "cell_type": "markdown",
   "metadata": {},
   "source": [
    "## Q2. What is DDL? Explain why CREATE, DROP, ALTER, and TRUNCATE are used with an example."
   ]
  },
  {
   "cell_type": "markdown",
   "metadata": {},
   "source": [
    "#### Ans:\n",
    "DDL stands for Data Definition Language. It's a subset of SQL used to define, modify, and manage the structure of a database and the objects within it.\n",
    "\n",
    "1. CREATE: This command is used to create new database objects such as tables, views. For example, you can use the CREATE TABLE statement to create a new table in the database, specifying the table name, column names, data types, constraints.\n",
    "2. DROP: DROP is used to delete objects from the database. It removes a table, index, view, or any other object along with all of its data and structure from the database. \n",
    "3. ALTER: ALTER is used to modify the structure of an existing database object. For example, you can use the ALTER TABLE statement to add, modify, or drop columns.\n",
    "4. TRUNCATE: TRUNCATE is used to remove all records from a table, effectively resetting the table to its empty state. Unlike the DROP command, TRUNCATE does not remove the table structure, just the data within it.\n",
    "\n"
   ]
  },
  {
   "cell_type": "code",
   "execution_count": null,
   "metadata": {},
   "outputs": [],
   "source": [
    "# 1.CREATE DDL Command\n",
    "\n",
    "CREATE TABLE if not exists school(\n",
    "    Roll num int ,\n",
    "    name varchar(20),\n",
    "    department varchar(20)\n",
    ");"
   ]
  },
  {
   "cell_type": "code",
   "execution_count": null,
   "metadata": {},
   "outputs": [],
   "source": [
    "# 2. DROP DDL Command\n",
    "\n",
    "DROP TABLE if exists COLLEGE;\n",
    "\n"
   ]
  },
  {
   "cell_type": "code",
   "execution_count": null,
   "metadata": {},
   "outputs": [],
   "source": [
    "# 3. ALTER DDL Command\n",
    "\n",
    "ALTER TABLE school\n",
    "ADD COLUMN age int;\n",
    "\n",
    "#adding new coloumn to school table "
   ]
  },
  {
   "cell_type": "code",
   "execution_count": null,
   "metadata": {},
   "outputs": [],
   "source": [
    "# 4. TURNCATE DDL Command\n",
    "# it will remove all records from the 'school' table\n",
    "\n",
    "TURNCATE TABLE school"
   ]
  },
  {
   "cell_type": "markdown",
   "metadata": {},
   "source": [
    "## What is DML? Explain INSERT, UPDATE, and DELETE with an example."
   ]
  },
  {
   "cell_type": "markdown",
   "metadata": {},
   "source": [
    "#### Ans:\n",
    "DML stands for Data Manipulation language. It's a subset of SQL used to manipulate data within a database. \n",
    "1. Insert :  This command is used to add new records into a table.\n",
    "2. Update : this command is uded to modify existing records in a table.\n",
    "3. Delete : It is used to remove existing records from a table."
   ]
  },
  {
   "cell_type": "code",
   "execution_count": null,
   "metadata": {},
   "outputs": [],
   "source": [
    "# 1. Insert \n",
    "# inserting new record into the 'school' table\n",
    " INSERT into school values (23,'Anuj','AI','21')\n",
    " INSERT into school values (25,'Ram','CSE','22')\n",
    " "
   ]
  },
  {
   "cell_type": "code",
   "execution_count": null,
   "metadata": {},
   "outputs": [],
   "source": [
    "# 2. Update\n",
    "UPDATE school\n",
    "SET age = 21\n",
    "where name = 'Ram';\n",
    "\n",
    "#it will update the age of Ram.\n"
   ]
  },
  {
   "cell_type": "code",
   "execution_count": null,
   "metadata": {},
   "outputs": [],
   "source": [
    "# 3. DELETE\n",
    "\n",
    "DELETE From school\n",
    "where roll_num = 25"
   ]
  },
  {
   "cell_type": "markdown",
   "metadata": {},
   "source": [
    "## Q4. What is DQL? Explain SELECT with an example."
   ]
  },
  {
   "cell_type": "markdown",
   "metadata": {},
   "source": [
    "#### Ans:\n",
    "DQL stands for Data Query Language. It's a subset of SQL (Structured Query Language) used to retrieve data from a database. The primary command in DQL is SELECT, which is used to query and retrieve data from one or more tables in a database."
   ]
  },
  {
   "cell_type": "code",
   "execution_count": null,
   "metadata": {},
   "outputs": [],
   "source": [
    "1.\n",
    "# retriving all column data from 'school ' table\n",
    "\n",
    "SELECT * FROM school ;\n",
    "\n",
    "#it will print all the data\n",
    "\n",
    "2. \n",
    "#retriving only the name and age column from 'school ' table\n",
    "\n",
    "SELECT name, age FROM school ;\n",
    "\n",
    "3. \n",
    "# retriving student with a age greater than 18\n",
    "\n",
    "SELECT * FROM school where age > 18"
   ]
  },
  {
   "cell_type": "markdown",
   "metadata": {},
   "source": [
    "## Q5. Explain Primary Key and Foreign Key."
   ]
  },
  {
   "cell_type": "markdown",
   "metadata": {},
   "source": [
    "#### Ans:\n",
    "1. primary key:\n",
    "Primary Key is a column or set of column in a table that uniquely identifies each row in that table.\n",
    "it ensures the uniqueness and integrity of data within the table.\n",
    "each table can have only one primary key and it cannot be null values.\n",
    "\n",
    "ex:\n",
    "```\n",
    "CREATE TABLE school(\n",
    "    Roll_num int PRIMARY KEY,\n",
    "    name VARCHAR(20),\n",
    "    age VARCHAR(20),\n",
    "    department VARCHAR(20)\n",
    ");\n",
    "```\n",
    "\n",
    "2. Foreign Key:\n",
    "A Foreign Key is a column or set of columns in a table that establishes a link between data in two tables.\n",
    "It represents a relationship between the tables, where the values in the Foreign Key column in one table correspond to the values in the Primary Key column of another table.\n",
    "Foreign Keys are used to enforce referential integrity between related tables, ensuring that data remains consistent across the database.\n",
    "\n",
    "ex:\n",
    "```\n",
    "CREATE TABLE teacher(\n",
    "    teacher_id INT PRIMARY KEY,\n",
    "    subject VARCHAR(20),\n",
    "    department VARCHAR(20)\n",
    "    FOREIGN KEY (department) REFERENCES school(department)\n",
    ");\n",
    "```"
   ]
  },
  {
   "cell_type": "markdown",
   "metadata": {},
   "source": [
    "## Q6. Write a python code to connect MySQL to python. Explain the cursor() and execute() method."
   ]
  },
  {
   "cell_type": "markdown",
   "metadata": {},
   "source": [
    "#### Ans:\n",
    "```\n",
    "import mysql.connector\n",
    "\n",
    "mydb = mysql.connector.connect(\n",
    "  host=\"localhost\",\n",
    "  user=\"@username\",\n",
    "  password=\"@password\"\n",
    ")\n",
    "print(mydb)\n",
    "mycursor = mydb.cursor()\n",
    "```\n",
    "\n",
    "1. cursor() Method:\n",
    "\n",
    "The cursor() method is typically used to create a cursor object in database programming.\n",
    "\n",
    "A cursor is a database object used to traverse the records in a result set. It acts as a pointer to a specific row within a set of rows, allowing you to retrieve or manipulate data row by row.\n",
    "\n",
    "Cursors are especially useful when executing SELECT queries that return multiple rows, as they allow you to iterate over the result set and process each row individually.\n",
    "\n",
    "2. execute() Method:\n",
    "\n",
    "The execute() method is used to execute SQL statements or database commands.\n",
    "\n",
    "It takes an SQL query or command as its argument and executes it within the database connection associated with the cursor object.\n",
    "\n",
    "The execute() method can be used to perform various operations such as SELECT, INSERT, UPDATE, DELETE, and DDL statements like CREATE, DROP, ALTER, etc."
   ]
  },
  {
   "cell_type": "markdown",
   "metadata": {},
   "source": [
    "## Q7. Give the order of execution of SQL clauses in an SQL query."
   ]
  },
  {
   "cell_type": "markdown",
   "metadata": {},
   "source": [
    "#### Ans:\n",
    "In SQL, the order of execution of clauses in a query generally follows these steps:\n",
    "\n",
    "1. FROM: The FROM clause specifies the tables from which to retrieve data. It's the first clause to be executed, defining the source of data for the query.\n",
    "2. WHERE: The WHERE clause filters the rows returned by the FROM clause based on specified conditions. It's executed after the FROM clause and before the SELECT, GROUP BY, HAVING, and ORDER BY clauses.\n",
    "3. SELECT: The SELECT clause determines which columns to include in the result set. It's executed after the FROM and WHERE clauses, and before the GROUP BY, HAVING, and ORDER BY clauses.\n",
    "4. GROUP BY: The GROUP BY clause groups the rows returned by the SELECT statement into summary rows based on specified criteria. It's executed after the SELECT clause.\n",
    "5. HAVING: The HAVING clause filters the grouped rows returned by the GROUP BY clause based on specified conditions. It's executed after the GROUP BY clause."
   ]
  },
  {
   "cell_type": "markdown",
   "metadata": {},
   "source": [
    "### Small Data Base Example:\n"
   ]
  },
  {
   "cell_type": "code",
   "execution_count": 11,
   "metadata": {},
   "outputs": [],
   "source": [
    "import sqlite3\n",
    "\n",
    "connection = sqlite3.connect('temp.db')\n",
    "\n",
    "cursor = connection.cursor()"
   ]
  },
  {
   "cell_type": "code",
   "execution_count": 13,
   "metadata": {},
   "outputs": [
    {
     "data": {
      "text/plain": [
       "<sqlite3.Cursor at 0x7fca9187e2d0>"
      ]
     },
     "execution_count": 13,
     "metadata": {},
     "output_type": "execute_result"
    }
   ],
   "source": [
    "#creating table school\n",
    "\n",
    "cursor.execute(''' CREATE TABLE IF NOT EXISTS school(\n",
    "    Roll_num INT PRIMARY KEY,\n",
    "    Name VARCHAR(20),\n",
    "    Age INT,\n",
    "    Department VARCHAR(20)\n",
    "); ''')"
   ]
  },
  {
   "cell_type": "code",
   "execution_count": 17,
   "metadata": {},
   "outputs": [
    {
     "data": {
      "text/plain": [
       "<sqlite3.Cursor at 0x7fca9187e2d0>"
      ]
     },
     "execution_count": 17,
     "metadata": {},
     "output_type": "execute_result"
    }
   ],
   "source": [
    "cursor.execute(\"INSERT INTO school VALUES (23,'Anuj',22,'AI')\")\n",
    "cursor.execute(\"INSERT INTO school VALUES (24,'Ra',21,'EE')\")\n",
    "cursor.execute(\"INSERT INTO school VALUES (25,'Shyam',25,'CSE')\")"
   ]
  },
  {
   "cell_type": "code",
   "execution_count": 18,
   "metadata": {},
   "outputs": [],
   "source": [
    "connection.commit() #commit changes\n",
    "cursor.execute(\"SELECT * FROM school\") #select DQL query\n",
    "rows = cursor.fetchall() #fetching data"
   ]
  },
  {
   "cell_type": "code",
   "execution_count": 19,
   "metadata": {},
   "outputs": [
    {
     "name": "stdout",
     "output_type": "stream",
     "text": [
      "(23, 'Anuj', 22, 'AI')\n",
      "(24, 'Ra', 21, 'EE')\n",
      "(25, 'Shyam', 25, 'CSE')\n"
     ]
    }
   ],
   "source": [
    "#printing data\n",
    "for row in rows:\n",
    "    print(row)"
   ]
  },
  {
   "cell_type": "code",
   "execution_count": 20,
   "metadata": {},
   "outputs": [],
   "source": [
    "#closing cursor and connection\n",
    "cursor.close()\n",
    "connection.close()"
   ]
  },
  {
   "cell_type": "code",
   "execution_count": null,
   "metadata": {},
   "outputs": [],
   "source": []
  }
 ],
 "metadata": {
  "kernelspec": {
   "display_name": "Python 3.8.10 64-bit",
   "language": "python",
   "name": "python3"
  },
  "language_info": {
   "codemirror_mode": {
    "name": "ipython",
    "version": 3
   },
   "file_extension": ".py",
   "mimetype": "text/x-python",
   "name": "python",
   "nbconvert_exporter": "python",
   "pygments_lexer": "ipython3",
   "version": "3.8.10"
  },
  "orig_nbformat": 4,
  "vscode": {
   "interpreter": {
    "hash": "e7370f93d1d0cde622a1f8e1c04877d8463912d04d973331ad4851f04de6915a"
   }
  }
 },
 "nbformat": 4,
 "nbformat_minor": 2
}
