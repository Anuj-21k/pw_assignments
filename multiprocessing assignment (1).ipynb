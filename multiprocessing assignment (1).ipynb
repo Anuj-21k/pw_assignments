{
 "cells": [
  {
   "cell_type": "markdown",
   "id": "ceefa53f-dd24-462d-a587-a62419ebd1e8",
   "metadata": {},
   "source": [
    "# Q1. What is multiprocessing in python? Why is it useful?"
   ]
  },
  {
   "cell_type": "markdown",
   "id": "931503dd-bf9b-4a89-aa4d-362e0c3f14d3",
   "metadata": {},
   "source": [
    "#### Ans:\n",
    "Multiprocessing in Python refers to the ability to run multiple processes simultaneously, combining multiple CPU cores for parallel execution. It's useful for improving performance and efficiency by distributing tasks across multiple processors, ideal for CPU-bound tasks. Unlike multithreading, multiprocessing allows true parallelism, avoiding Global Interpreter Lock limitations. With multiprocessing, Python can utilize the full power of modern multi-core systems, speeding up computation-intensive tasks such as data processing, scientific computing, and machine learning. It enhances scalability, responsiveness, and overall system throughput in Python applications."
   ]
  },
  {
   "cell_type": "markdown",
   "id": "ea444ca2-17a4-4b8e-8380-6577216908c4",
   "metadata": {},
   "source": [
    "# Q2. What are the differences between multiprocessing and multithreading?"
   ]
  },
  {
   "cell_type": "markdown",
   "id": "c8d9b82b-5a4e-4be2-b26c-b4a640ff30ef",
   "metadata": {},
   "source": [
    "#### Ans:\n",
    "\n",
    "##### Multiprocessing:\n",
    "\n",
    "Separate Memory Space: Each process has its own memory space, preventing unintended data sharing and providing better isolation.\n",
    "\n",
    "True Parallelism: Utilizes multiple CPU cores effectively, allowing processes to run truly concurrently without being affected by the Global Interpreter Lock (GIL).\n",
    "\n",
    "Inter-Process Communication: Communication between processes is achieved through mechanisms like pipes, queues, and shared memory, facilitating data exchange.\n",
    "\n",
    "##### Multithreading:\n",
    "\n",
    "Shared Memory Space: Threads within the same process share memory space, allowing for efficient data sharing but increasing the complexity of synchronization.\n",
    "\n",
    "Limited Parallelism: Restricted by the Global Interpreter Lock (GIL), limiting true parallelism and making multithreading more suitable for I/O-bound tasks than CPU-bound tasks.\n",
    "\n",
    "Thread Safety Concerns: Concurrent access to shared resources can lead to race conditions and synchronization issues, requiring careful synchronization mechanisms such as locks and semaphores."
   ]
  },
  {
   "cell_type": "markdown",
   "id": "074e859d-7d45-4d25-90b3-5ee9fbbfaca3",
   "metadata": {},
   "source": [
    "# Q3. Write a python code to create a process using the multiprocessing module. "
   ]
  },
  {
   "cell_type": "code",
   "execution_count": 2,
   "id": "4578da71-5b3c-4467-ab27-e4cf064df99c",
   "metadata": {},
   "outputs": [
    {
     "name": "stdout",
     "output_type": "stream",
     "text": [
      "worker process is executing.\n",
      "Main process is done\n"
     ]
    }
   ],
   "source": [
    "import multiprocessing\n",
    "\n",
    "def worker():\n",
    "    \"\"\" function to be executed by the process \"\"\"\n",
    "    print(\"worker process is executing.\")\n",
    "    \n",
    "if __name__ == \"__main__\":\n",
    "    \n",
    "    process = multiprocessing.Process(target=worker) #created multiprocessing process object\n",
    "    \n",
    "    #starting the process\n",
    "    process.start()\n",
    "    \n",
    "    #wait for the process to finish\n",
    "    process.join()\n",
    "    \n",
    "    print(\"Main process is done\")"
   ]
  },
  {
   "cell_type": "markdown",
   "id": "06cbb12c-4136-4a43-9743-79a1b75af65e",
   "metadata": {},
   "source": [
    "# Q4. What is a multiprocessing pool in python? Why is it used?"
   ]
  },
  {
   "cell_type": "markdown",
   "id": "a587a71c-f486-4047-91f0-1b8b5f208784",
   "metadata": {},
   "source": [
    "#### Ans:\n",
    "1. Definition :\n",
    "     A multiprocessing pool is a feature provided by the multiprocessing module in Python. It represents a pool of worker processes that can execute tasks concurrently.\n",
    "\n",
    "2. The pool distributes tasks among its worker processes, allowing for parallel execution of multiple tasks. Each worker process in the pool can execute a task independently, utilizing multiple CPU cores effectively."
   ]
  },
  {
   "cell_type": "markdown",
   "id": "cf9a505b-e714-4be0-8cb1-df5e159bdba7",
   "metadata": {},
   "source": [
    "# Q5. How can we create a pool of worker processes in python using the multiprocessing module?"
   ]
  },
  {
   "cell_type": "code",
   "execution_count": 5,
   "id": "122a537f-520b-4937-af10-d83a36857a2a",
   "metadata": {},
   "outputs": [
    {
     "name": "stdout",
     "output_type": "stream",
     "text": [
      "Results: [1, 4, 9, 16, 25, 36, 49, 64, 81]\n"
     ]
    }
   ],
   "source": [
    "# Ans \n",
    "\n",
    "import multiprocessing\n",
    "\n",
    "def worker_task(x) :\n",
    "    \"\"\" task function to be executed by worker processes \"\"\"\n",
    "    return x*x\n",
    "\n",
    "if __name__ == \"__main__\":\n",
    "    \n",
    "    with multiprocessing.Pool(processes = 4 ) as pool:\n",
    "        \n",
    "    \n",
    "        inputs = [1,2,3,4,5,6,7,8,9]\n",
    "    \n",
    "        results = pool.map(worker_task, inputs)\n",
    "    \n",
    "        print(\"Results:\" , results)"
   ]
  },
  {
   "cell_type": "markdown",
   "id": "63986ca4-ecb0-413a-9da4-9cfdb6d882aa",
   "metadata": {},
   "source": [
    "# Q6. Write a python program to create 4 processes, each process should print a different number using the multiprocessing module in python."
   ]
  },
  {
   "cell_type": "code",
   "execution_count": 6,
   "id": "e2236df2-65f2-4e3a-b589-07f2ce519e81",
   "metadata": {},
   "outputs": [
    {
     "name": "stdout",
     "output_type": "stream",
     "text": [
      "Process 1: 1\n",
      "Process 2: 2\n",
      "Process 3: 3\n",
      "Process 4: 4\n",
      "All processes have finished.\n"
     ]
    }
   ],
   "source": [
    "import multiprocessing\n",
    "\n",
    "def print_number(number):\n",
    "    \"\"\"Function to print a number.\"\"\"\n",
    "    print(f\"Process {number}: {number}\")\n",
    "\n",
    "if __name__ == \"__main__\":\n",
    "    #  numbers to be printed by each process\n",
    "    numbers = [1, 2, 3, 4]\n",
    "\n",
    "    # Creating a list to hold process objects\n",
    "    processes = []\n",
    "\n",
    "    # Creating 4 processes, each printing a different number\n",
    "    for number in numbers:\n",
    "        process = multiprocessing.Process(target=print_number, args=(number,))\n",
    "        processes.append(process)\n",
    "        process.start()\n",
    "\n",
    "    # Waiting for all processes to finish\n",
    "    for process in processes:\n",
    "        process.join()\n",
    "\n",
    "    print(\"All processes have finished.\")\n"
   ]
  },
  {
   "cell_type": "code",
   "execution_count": null,
   "id": "b7c21837-6e21-44cb-bebb-f590ef9b8adf",
   "metadata": {},
   "outputs": [],
   "source": []
  }
 ],
 "metadata": {
  "kernelspec": {
   "display_name": "Python 3 (ipykernel)",
   "language": "python",
   "name": "python3"
  },
  "language_info": {
   "codemirror_mode": {
    "name": "ipython",
    "version": 3
   },
   "file_extension": ".py",
   "mimetype": "text/x-python",
   "name": "python",
   "nbconvert_exporter": "python",
   "pygments_lexer": "ipython3",
   "version": "3.10.8"
  }
 },
 "nbformat": 4,
 "nbformat_minor": 5
}
