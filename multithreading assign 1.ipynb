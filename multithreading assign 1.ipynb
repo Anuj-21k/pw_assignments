{
 "cells": [
  {
   "cell_type": "markdown",
   "id": "32a625ba-0262-4dd7-82c1-771267cc5580",
   "metadata": {},
   "source": [
    "# Q1 what is multithreading in python? hy is it used? Name the module used to handle threads in python"
   ]
  },
  {
   "cell_type": "markdown",
   "id": "190588a1-7b3f-4919-afb7-b05749fcdfa5",
   "metadata": {},
   "source": [
    "#### Ans:\n",
    "\n",
    "Multithreading in Python refers to the ability of a program to execute multiple threads simultaneously, allowing for concurrent execution of tasks. It is used to improve the performance of programs by leveraging the capabilities of modern multi-core processors and handling concurrent operations efficiently.\n",
    "\n",
    "#### The module used to handle threads in Python is called threading. \n",
    "It provides a high-level interface for creating and managing threads, allowing developers to implement multithreaded applications easily."
   ]
  },
  {
   "cell_type": "markdown",
   "id": "29a38711-9281-4abd-836c-4a6ffb094039",
   "metadata": {},
   "source": [
    "# Q2. why threading module used? rite the use of the following functions\n",
    " 1. `activeCount()`\n",
    " 2. `currentThread()`\n",
    " 3. `enumerate()`"
   ]
  },
  {
   "cell_type": "markdown",
   "id": "05274653-5b15-4f56-b86d-7b9c2aefa6c2",
   "metadata": {},
   "source": [
    "#### Ans:\n",
    "The `threading` module in Python is used for efficient handling of threads. It facilitates concurrent execution of tasks, improves performance, and allows for better resource utilization. \n",
    "\n",
    " `activeCount()`: Returns the number of active threads.\n",
    " \n",
    " `currentThread()`: Returns the current thread object.\n",
    " \n",
    " `enumerate()`: Returns a list of all active thread objects."
   ]
  },
  {
   "cell_type": "markdown",
   "id": "7bc345f4-4b5f-4e1c-89da-152569381f32",
   "metadata": {},
   "source": [
    "# Q3. Explain the following functions\n",
    "` run()`\n",
    " `start()`\n",
    "` join()`\n",
    "` isAlive()`"
   ]
  },
  {
   "cell_type": "markdown",
   "id": "3f3cdbe6-b639-4b11-a5c2-b5a954834937",
   "metadata": {},
   "source": [
    "#### Ans:\n",
    "`run()`: This method is typically overridden in a subclass of threading.Thread. It defines the code that will be executed by the thread when it is started. It's not typically called directly; instead, it's invoked automatically when the thread's start() method is called.\n",
    "\n",
    "`start()`: This method starts the execution of the thread by calling its run() method. After calling start(), the thread enters the \"running\" state and begins executing concurrently with other threads. It should only be called once per thread object.\n",
    "\n",
    "`join()`: This method waits for the thread to complete its execution. When called on a thread object, the program will block until the thread finishes its task and terminates. It's often used to synchronize the main thread with other threads, ensuring that they complete their work before proceeding.\n",
    "\n",
    "`isAlive()`: This method returns a boolean value indicating whether the thread is currently executing or not. It returns True if the thread is active (i.e., it has been started but has not yet finished its execution) and False otherwise. It's useful for checking the status of a thread, especially before calling join() to avoid blocking indefinitely."
   ]
  },
  {
   "cell_type": "markdown",
   "id": "a9941461-6939-4d65-95b6-f26b25a5f55b",
   "metadata": {},
   "source": [
    "# Q4 . write a python program to create two threads. Thread one must print the list of squares and thread two must print the list of cubes\n"
   ]
  },
  {
   "cell_type": "code",
   "execution_count": 1,
   "id": "33d9c2f2-c9e0-4518-8543-7c8c466138d1",
   "metadata": {},
   "outputs": [
    {
     "name": "stdout",
     "output_type": "stream",
     "text": [
      "List of Squares: [1, 4, 9, 16, 25, 36, 49, 64, 81, 100]\n",
      "List of squares: [1, 8, 27, 64, 125, 216, 343, 512, 729, 1000]\n",
      "Both threads have finished executing.\n"
     ]
    }
   ],
   "source": [
    "import threading #importing lib\n",
    "\n",
    "def squares(): #square function\n",
    "    squares = [i**2 for i in range(1,11)]\n",
    "    print(\"List of Squares:\" , squares)\n",
    "    \n",
    "def cubes(): #cube function\n",
    "    cubes = [i**3 for i in range(1,11)]\n",
    "    print(\"List of squares:\", cubes)\n",
    "    \n",
    "#creating threads\n",
    "\n",
    "t1 = threading.Thread(target=squares)\n",
    "t2 = threading.Thread(target=cubes)\n",
    "\n",
    "#start threads\n",
    "t1.start()\n",
    "t2.start()\n",
    "\n",
    "#waiting for threads to finish\n",
    "t1.join()\n",
    "t2.join()\n",
    "\n",
    "print(\"Both threads have finished executing.\")"
   ]
  },
  {
   "cell_type": "markdown",
   "id": "6af0186f-666c-41c3-932c-26510ceab1ce",
   "metadata": {},
   "source": [
    "# Q5. State advantages and disadvantages of multithreading"
   ]
  },
  {
   "cell_type": "markdown",
   "id": "bdc44990-1d91-4305-9e18-1bac47c2eb5e",
   "metadata": {},
   "source": [
    "#### Ans:\n",
    "\n",
    "##### Advantages of multithreading:\n",
    "\n",
    "1.Improved Performance: Multithreading allows for concurrent execution of tasks, utilizing multiple CPU cores effectively and improving overall performance.\n",
    "\n",
    "2.Enhanced Responsiveness: By separating tasks into threads, a program can remain responsive to user interactions even when performing CPU-intensive operations or blocking I/O operations.\n",
    "\n",
    "3.Resource Sharing: Threads within the same process share memory space, allowing for efficient communication and data sharing between threads, reducing the need for inter-process communication mechanisms.\n",
    "\n",
    "##### Disadvantages of multithreading:\n",
    "\n",
    "1.Complexity and Synchronization: Multithreaded programs can be complex to design and debug due to potential race conditions, deadlocks, and synchronization issues that arise when multiple threads access shared resources concurrently.\n",
    "\n",
    "2.Overhead: Creating and managing threads incurs overhead in terms of memory and CPU resources. Additionally, context switching between threads can introduce performance overhead, especially on systems with limited resources.\n",
    "\n",
    "3.Potential for Bugs: Multithreading introduces non-deterministic behavior, making it challenging to predict and debug issues. Bugs related to threading, such as race conditions and thread starvation, can be difficult to identify and resolve."
   ]
  },
  {
   "cell_type": "markdown",
   "id": "7dfda3c1-f2fa-4091-b409-4bb90b576b5a",
   "metadata": {},
   "source": [
    "# Q6. Explain deadlocks and race conditions"
   ]
  }
 ],
 "metadata": {
  "kernelspec": {
   "display_name": "Python 3 (ipykernel)",
   "language": "python",
   "name": "python3"
  },
  "language_info": {
   "codemirror_mode": {
    "name": "ipython",
    "version": 3
   },
   "file_extension": ".py",
   "mimetype": "text/x-python",
   "name": "python",
   "nbconvert_exporter": "python",
   "pygments_lexer": "ipython3",
   "version": "3.10.8"
  }
 },
 "nbformat": 4,
 "nbformat_minor": 5
}
